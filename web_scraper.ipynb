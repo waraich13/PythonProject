{
 "cells": [
  {
   "cell_type": "code",
   "execution_count": null,
   "id": "d65e300c",
   "metadata": {},
   "outputs": [],
   "source": [
    "# pip install beautifulsoup4"
   ]
  },
  {
   "cell_type": "code",
   "execution_count": null,
   "id": "c40d46bf",
   "metadata": {},
   "outputs": [],
   "source": [
    "import requests\n",
    "from bs4 import BeautifulSoup\n",
    "import pandas as pd\n",
    "from time import sleep"
   ]
  },
  {
   "cell_type": "code",
   "execution_count": null,
   "id": "556d2689",
   "metadata": {},
   "outputs": [],
   "source": [
    "weburl = 'https://www.carpages.ca/used-cars/search/?sale_type=new&with_prices_only=1'"
   ]
  },
  {
   "cell_type": "code",
   "execution_count": null,
   "id": "9e6235cf",
   "metadata": {},
   "outputs": [],
   "source": [
    "response = requests.get(weburl)"
   ]
  },
  {
   "cell_type": "code",
   "execution_count": null,
   "id": "a659a51c",
   "metadata": {},
   "outputs": [],
   "source": [
    "response.status_code"
   ]
  },
  {
   "cell_type": "code",
   "execution_count": null,
   "id": "a6a8fea3",
   "metadata": {},
   "outputs": [],
   "source": [
    "soup = BeautifulSoup(response.content, 'html.parser')"
   ]
  },
  {
   "cell_type": "code",
   "execution_count": null,
   "id": "b47185eb",
   "metadata": {},
   "outputs": [],
   "source": [
    "soup"
   ]
  },
  {
   "cell_type": "code",
   "execution_count": null,
   "id": "72a1164a",
   "metadata": {},
   "outputs": [],
   "source": [
    "results = soup.find_all('div', {'class':'media soft push-none rule'})"
   ]
  },
  {
   "cell_type": "code",
   "execution_count": null,
   "id": "9300308e",
   "metadata": {},
   "outputs": [],
   "source": [
    "len(results)"
   ]
  },
  {
   "cell_type": "markdown",
   "id": "3199aef4",
   "metadata": {},
   "source": [
    "## Name"
   ]
  },
  {
   "cell_type": "code",
   "execution_count": null,
   "id": "e50ee0a9",
   "metadata": {},
   "outputs": [],
   "source": [
    "results[0].find('h4').get_text().strip()"
   ]
  },
  {
   "cell_type": "markdown",
   "id": "38f4b627",
   "metadata": {},
   "source": [
    "## Kilometer"
   ]
  },
  {
   "cell_type": "code",
   "execution_count": null,
   "id": "aa216843",
   "metadata": {},
   "outputs": [],
   "source": [
    "results[0].find('div',{'class':'grey l-column l-column--small-6 l-column--medium-4'}).get_text().strip()"
   ]
  },
  {
   "cell_type": "markdown",
   "id": "8c0bf578",
   "metadata": {},
   "source": [
    "## Price"
   ]
  },
  {
   "cell_type": "code",
   "execution_count": null,
   "id": "7cd62ade",
   "metadata": {},
   "outputs": [],
   "source": [
    "results[0].find('strong',{'class':'delta'}).get_text().strip()"
   ]
  },
  {
   "cell_type": "markdown",
   "id": "5d54e026",
   "metadata": {},
   "source": [
    "## Location"
   ]
  },
  {
   "cell_type": "code",
   "execution_count": null,
   "id": "616bfab4",
   "metadata": {},
   "outputs": [],
   "source": [
    "results[0].find('p',{'class':'hN'}).get_text().strip()"
   ]
  },
  {
   "cell_type": "markdown",
   "id": "0cefbf73",
   "metadata": {},
   "source": [
    "## Creating for loop"
   ]
  },
  {
   "cell_type": "code",
   "execution_count": null,
   "id": "7d398741",
   "metadata": {},
   "outputs": [],
   "source": [
    "name= []\n",
    "mileage = []\n",
    "price = []\n",
    "location = []\n",
    "\n",
    "#Loop\n",
    "\n",
    "for result in results:\n",
    "    \n",
    "    try:\n",
    "        name.append(result.find('h4').get_text().strip())\n",
    "    except:\n",
    "        name.append('null')\n",
    "    \n",
    "    try:\n",
    "        mileage.append(result.find('div',{'class':'grey l-column l-column--small-6 l-column--medium-4'}).get_text().strip())\n",
    "    except:\n",
    "        mileage.append('null')\n",
    "    \n",
    "    try:\n",
    "        location.append(result.find('p',{'class':'hN'}).get_text().strip())\n",
    "    except:\n",
    "        location.append('null')\n",
    "    \n",
    "    try:\n",
    "        price.append(result.find('strong',{'class':'delta'}).get_text().strip())\n",
    "    except:\n",
    "        price.append('null')\n",
    "        "
   ]
  },
  {
   "cell_type": "markdown",
   "id": "99ef602f",
   "metadata": {},
   "source": [
    "## Creating DataFrame"
   ]
  },
  {
   "cell_type": "code",
   "execution_count": null,
   "id": "ed64a039",
   "metadata": {},
   "outputs": [],
   "source": [
    "car_dealer = pd.DataFrame({'Name':name, 'Mileage':mileage, 'Price':price, 'Location':location})"
   ]
  },
  {
   "cell_type": "code",
   "execution_count": null,
   "id": "e9154742",
   "metadata": {},
   "outputs": [],
   "source": [
    "car_dealer"
   ]
  },
  {
   "cell_type": "markdown",
   "id": "0a3dc7d6",
   "metadata": {},
   "source": [
    "## Output to excel"
   ]
  },
  {
   "cell_type": "code",
   "execution_count": null,
   "id": "ff091587",
   "metadata": {},
   "outputs": [],
   "source": [
    "car_dealer.to_excel('single_page_car.xlsx',index = False)"
   ]
  },
  {
   "cell_type": "markdown",
   "id": "0d427f8c",
   "metadata": {},
   "source": [
    "## Pagination"
   ]
  },
  {
   "cell_type": "code",
   "execution_count": null,
   "id": "a4d9b89e",
   "metadata": {},
   "outputs": [],
   "source": [
    "name= []\n",
    "mileage = []\n",
    "price = []\n",
    "location = []\n",
    "\n",
    "for i in range(1,20):\n",
    "    web_page ='https://www.carpages.ca/used-cars/search/?num_results=50&sale_type=new&with_prices_only=1&p=' + str(i)\n",
    "    \n",
    "    #request to website\n",
    "    response = requests.get(web_page)\n",
    "    \n",
    "    #soup object\n",
    "    soup = BeautifulSoup(response.content, 'html.parser')\n",
    "    \n",
    "    #results\n",
    "    results = soup.find_all('div', {'class':'media soft push-none rule'})\n",
    "   \n",
    "    #Loop\n",
    "\n",
    "    for result in results:\n",
    "\n",
    "        try:\n",
    "            name.append(result.find('h4').get_text().strip())\n",
    "        except:\n",
    "            name.append('null')\n",
    "\n",
    "        try:\n",
    "            mileage.append(result.find('div',{'class':'grey l-column l-column--small-6 l-column--medium-4'}).get_text().strip())\n",
    "        except:\n",
    "            mileage.append('null')\n",
    "\n",
    "        try:\n",
    "            location.append(result.find('p',{'class':'hN'}).get_text().strip())\n",
    "        except:\n",
    "            location.append('null')\n",
    "\n",
    "        try:\n",
    "            price.append(result.find('strong',{'class':'delta'}).get_text().strip())\n",
    "        except:\n",
    "            price.append('null')\n",
    "\n"
   ]
  },
  {
   "cell_type": "code",
   "execution_count": null,
   "id": "ae4cf38f",
   "metadata": {},
   "outputs": [],
   "source": [
    "car_dealer = pd.DataFrame({'Name':name, 'Mileage':mileage, 'Price':price, 'Location':location})"
   ]
  },
  {
   "cell_type": "markdown",
   "id": "5af944a6",
   "metadata": {},
   "source": [
    "## Saving DataFrame to excel"
   ]
  },
  {
   "cell_type": "code",
   "execution_count": null,
   "id": "020035fd",
   "metadata": {},
   "outputs": [],
   "source": [
    "car_dealer.to_excel('car.xlsx',index = False)"
   ]
  }
 ],
 "metadata": {
  "kernelspec": {
   "display_name": "Python 3 (ipykernel)",
   "language": "python",
   "name": "python3"
  },
  "language_info": {
   "codemirror_mode": {
    "name": "ipython",
    "version": 3
   },
   "file_extension": ".py",
   "mimetype": "text/x-python",
   "name": "python",
   "nbconvert_exporter": "python",
   "pygments_lexer": "ipython3",
   "version": "3.9.13"
  }
 },
 "nbformat": 4,
 "nbformat_minor": 5
}
