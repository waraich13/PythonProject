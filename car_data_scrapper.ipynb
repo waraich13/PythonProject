{
 "cells": [
  {
   "cell_type": "code",
   "execution_count": null,
   "id": "a28aebcc",
   "metadata": {},
   "outputs": [],
   "source": [
    "## !pip install selenium"
   ]
  },
  {
   "cell_type": "code",
   "execution_count": null,
   "id": "24380d09",
   "metadata": {},
   "outputs": [],
   "source": [
    "## !pip install webdriver-manager"
   ]
  },
  {
   "cell_type": "code",
   "execution_count": 1,
   "id": "a1f49e84",
   "metadata": {},
   "outputs": [],
   "source": [
    "import requests\n",
    "from bs4 import BeautifulSoup\n",
    "import pandas as pd\n",
    "from time import sleep\n",
    "import json\n",
    "\n",
    "from selenium import webdriver \n",
    "from selenium.webdriver.common.by import By \n",
    "from selenium.webdriver.chrome.service import Service as ChromeService \n",
    "from webdriver_manager.chrome import ChromeDriverManager "
   ]
  },
  {
   "cell_type": "code",
   "execution_count": null,
   "id": "9c6acc5a",
   "metadata": {},
   "outputs": [],
   "source": [
    "## website = 'https://www.kbb.ca/cars-for-sale/all/Ontario/?lc=Ontario&zcd=1&nv=true&uv=false&pag=1&srt=7'"
   ]
  },
  {
   "cell_type": "code",
   "execution_count": 2,
   "id": "1854b623",
   "metadata": {},
   "outputs": [],
   "source": [
    "producturl = 'https://www.autotrader.ca/a/ford/escape/toronto/ontario/5_55560749_20151119114503418/?ncse=no&ursrc=boost&orup=1_15_24597&pc=L7A+0J3&sprx=-2'"
   ]
  },
  {
   "cell_type": "code",
   "execution_count": 4,
   "id": "5bf9f183",
   "metadata": {},
   "outputs": [
    {
     "name": "stderr",
     "output_type": "stream",
     "text": [
      "C:\\Users\\davwa\\AppData\\Local\\Temp\\ipykernel_4792\\1152058181.py:1: DeprecationWarning: executable_path has been deprecated, please pass in a Service object\n",
      "  driver = webdriver.Chrome(ChromeDriverManager().install())\n"
     ]
    }
   ],
   "source": [
    "driver = webdriver.Chrome(ChromeDriverManager().install())\n",
    "driver.implicitly_wait(10)\n",
    "driver.get(producturl)"
   ]
  },
  {
   "cell_type": "markdown",
   "id": "458ae774",
   "metadata": {},
   "source": [
    "## Name"
   ]
  },
  {
   "cell_type": "code",
   "execution_count": 5,
   "id": "44f0dfeb",
   "metadata": {},
   "outputs": [],
   "source": [
    "name = driver.find_element(By.XPATH, \"//h1[@class='hero-title']\")"
   ]
  },
  {
   "cell_type": "code",
   "execution_count": 6,
   "id": "3194b106",
   "metadata": {},
   "outputs": [
    {
     "data": {
      "text/plain": [
       "'2022 Ford Escape SE'"
      ]
     },
     "execution_count": 6,
     "metadata": {},
     "output_type": "execute_result"
    }
   ],
   "source": [
    "name.text"
   ]
  },
  {
   "cell_type": "markdown",
   "id": "f7af4d59",
   "metadata": {},
   "source": [
    "## kilometer"
   ]
  },
  {
   "cell_type": "code",
   "execution_count": 7,
   "id": "bc36d581",
   "metadata": {},
   "outputs": [],
   "source": [
    "kilometer = driver.find_element(By.XPATH, \"//span[@id='spec-value-0']\")"
   ]
  },
  {
   "cell_type": "code",
   "execution_count": 8,
   "id": "6add6274",
   "metadata": {},
   "outputs": [
    {
     "data": {
      "text/plain": [
       "'5,695 km'"
      ]
     },
     "execution_count": 8,
     "metadata": {},
     "output_type": "execute_result"
    }
   ],
   "source": [
    "kilometer.text"
   ]
  },
  {
   "cell_type": "markdown",
   "id": "6e78a577",
   "metadata": {},
   "source": [
    "## price"
   ]
  },
  {
   "cell_type": "code",
   "execution_count": 9,
   "id": "b264ec54",
   "metadata": {},
   "outputs": [],
   "source": [
    "price = driver.find_element(By.XPATH, \"//p[@class='hero-price']\")"
   ]
  },
  {
   "cell_type": "code",
   "execution_count": 10,
   "id": "b06457ff",
   "metadata": {},
   "outputs": [
    {
     "data": {
      "text/plain": [
       "'36,744'"
      ]
     },
     "execution_count": 10,
     "metadata": {},
     "output_type": "execute_result"
    }
   ],
   "source": [
    "price.text"
   ]
  },
  {
   "cell_type": "markdown",
   "id": "a3c4fc42",
   "metadata": {},
   "source": [
    "## status"
   ]
  },
  {
   "cell_type": "code",
   "execution_count": 11,
   "id": "6cc6142a",
   "metadata": {},
   "outputs": [],
   "source": [
    "status = driver.find_element(By.XPATH, \"//span[@id='spec-value-1']\")"
   ]
  },
  {
   "cell_type": "code",
   "execution_count": 12,
   "id": "17a886cd",
   "metadata": {},
   "outputs": [
    {
     "data": {
      "text/plain": [
       "'New'"
      ]
     },
     "execution_count": 12,
     "metadata": {},
     "output_type": "execute_result"
    }
   ],
   "source": [
    "status.text"
   ]
  },
  {
   "cell_type": "markdown",
   "id": "4357c258",
   "metadata": {},
   "source": [
    "## Trim"
   ]
  },
  {
   "cell_type": "code",
   "execution_count": 13,
   "id": "1340508c",
   "metadata": {},
   "outputs": [],
   "source": [
    "trim = driver.find_element(By.XPATH, \"//span[@id='spec-value-2']\")"
   ]
  },
  {
   "cell_type": "code",
   "execution_count": 14,
   "id": "48dad2e4",
   "metadata": {},
   "outputs": [
    {
     "data": {
      "text/plain": [
       "'SE'"
      ]
     },
     "execution_count": 14,
     "metadata": {},
     "output_type": "execute_result"
    }
   ],
   "source": [
    "trim.text"
   ]
  },
  {
   "cell_type": "markdown",
   "id": "8d22856c",
   "metadata": {},
   "source": [
    "## body type"
   ]
  },
  {
   "cell_type": "code",
   "execution_count": 15,
   "id": "98ce84a5",
   "metadata": {},
   "outputs": [],
   "source": [
    "bodytype = driver.find_element(By.XPATH, \"//span[@id='spec-value-3']\")"
   ]
  },
  {
   "cell_type": "code",
   "execution_count": 17,
   "id": "18803d4f",
   "metadata": {},
   "outputs": [
    {
     "data": {
      "text/plain": [
       "'SUV'"
      ]
     },
     "execution_count": 17,
     "metadata": {},
     "output_type": "execute_result"
    }
   ],
   "source": [
    "bodytype.text"
   ]
  },
  {
   "cell_type": "markdown",
   "id": "47b570e0",
   "metadata": {},
   "source": [
    "## engine"
   ]
  },
  {
   "cell_type": "code",
   "execution_count": 18,
   "id": "8c62e5ac",
   "metadata": {},
   "outputs": [],
   "source": [
    "engine = driver.find_element(By.XPATH, \"//span[@id='spec-value-4']\")"
   ]
  },
  {
   "cell_type": "code",
   "execution_count": 19,
   "id": "b7d5ae32",
   "metadata": {},
   "outputs": [
    {
     "data": {
      "text/plain": [
       "'3 Cylinder Engine'"
      ]
     },
     "execution_count": 19,
     "metadata": {},
     "output_type": "execute_result"
    }
   ],
   "source": [
    "engine.text"
   ]
  },
  {
   "cell_type": "markdown",
   "id": "bc5b8f09",
   "metadata": {},
   "source": [
    "## cylinder"
   ]
  },
  {
   "cell_type": "code",
   "execution_count": 20,
   "id": "53f21e94",
   "metadata": {},
   "outputs": [],
   "source": [
    "cylinder = driver.find_element(By.XPATH, \"//span[@id='spec-value-5']\")"
   ]
  },
  {
   "cell_type": "code",
   "execution_count": 21,
   "id": "625752a4",
   "metadata": {},
   "outputs": [
    {
     "data": {
      "text/plain": [
       "''"
      ]
     },
     "execution_count": 21,
     "metadata": {},
     "output_type": "execute_result"
    }
   ],
   "source": [
    "cylinder.text"
   ]
  },
  {
   "cell_type": "markdown",
   "id": "d46a3b51",
   "metadata": {},
   "source": [
    "## transmission"
   ]
  },
  {
   "cell_type": "code",
   "execution_count": 22,
   "id": "2b6328bc",
   "metadata": {},
   "outputs": [],
   "source": [
    "transmission = driver.find_element(By.XPATH, \"//span[@id='spec-value-6']\")"
   ]
  },
  {
   "cell_type": "code",
   "execution_count": 23,
   "id": "8d17c54e",
   "metadata": {},
   "outputs": [
    {
     "data": {
      "text/plain": [
       "''"
      ]
     },
     "execution_count": 23,
     "metadata": {},
     "output_type": "execute_result"
    }
   ],
   "source": [
    "transmission.text"
   ]
  },
  {
   "cell_type": "markdown",
   "id": "1ef98fe1",
   "metadata": {},
   "source": [
    "## drivetrain"
   ]
  },
  {
   "cell_type": "code",
   "execution_count": 24,
   "id": "6984b21f",
   "metadata": {},
   "outputs": [],
   "source": [
    "drivetrain = driver.find_element(By.XPATH, \"//span[@id='spec-value-7']\")"
   ]
  },
  {
   "cell_type": "code",
   "execution_count": 25,
   "id": "25b43cd1",
   "metadata": {},
   "outputs": [
    {
     "data": {
      "text/plain": [
       "''"
      ]
     },
     "execution_count": 25,
     "metadata": {},
     "output_type": "execute_result"
    }
   ],
   "source": [
    "drivetrain.text"
   ]
  },
  {
   "cell_type": "markdown",
   "id": "2f77dc29",
   "metadata": {},
   "source": [
    "## doors"
   ]
  },
  {
   "cell_type": "code",
   "execution_count": 26,
   "id": "fc58060c",
   "metadata": {},
   "outputs": [],
   "source": [
    "doors = driver.find_element(By.XPATH, \"//span[@id='spec-value-11']\")"
   ]
  },
  {
   "cell_type": "code",
   "execution_count": 27,
   "id": "0bfa211a",
   "metadata": {},
   "outputs": [
    {
     "data": {
      "text/plain": [
       "''"
      ]
     },
     "execution_count": 27,
     "metadata": {},
     "output_type": "execute_result"
    }
   ],
   "source": [
    "doors.text"
   ]
  },
  {
   "cell_type": "markdown",
   "id": "76716b30",
   "metadata": {},
   "source": [
    "## fuel type"
   ]
  },
  {
   "cell_type": "code",
   "execution_count": null,
   "id": "71fccad6",
   "metadata": {},
   "outputs": [],
   "source": [
    "fuel = driver.find_element(By.XPATH, \"//span[@id='spec-value-12']\")"
   ]
  },
  {
   "cell_type": "code",
   "execution_count": null,
   "id": "6317cb82",
   "metadata": {},
   "outputs": [],
   "source": [
    "fuel.text"
   ]
  },
  {
   "cell_type": "markdown",
   "id": "c109d1e1",
   "metadata": {},
   "source": [
    "## city fuel economy"
   ]
  },
  {
   "cell_type": "code",
   "execution_count": null,
   "id": "6e6cfe89",
   "metadata": {},
   "outputs": [],
   "source": [
    "city = driver.find_element(By.XPATH, \"//span[@id='spec-value-13']\")"
   ]
  },
  {
   "cell_type": "code",
   "execution_count": null,
   "id": "64d18302",
   "metadata": {},
   "outputs": [],
   "source": [
    "city.text"
   ]
  },
  {
   "cell_type": "markdown",
   "id": "4d5d1340",
   "metadata": {},
   "source": [
    "## hwy fuel economy"
   ]
  },
  {
   "cell_type": "code",
   "execution_count": 28,
   "id": "cad79a02",
   "metadata": {},
   "outputs": [],
   "source": [
    "hwy = driver.find_element(By.XPATH, \"//span[@id='spec-value-14']\")"
   ]
  },
  {
   "cell_type": "code",
   "execution_count": 29,
   "id": "f02c0763",
   "metadata": {},
   "outputs": [
    {
     "data": {
      "text/plain": [
       "''"
      ]
     },
     "execution_count": 29,
     "metadata": {},
     "output_type": "execute_result"
    }
   ],
   "source": [
    "hwy.text"
   ]
  },
  {
   "cell_type": "markdown",
   "id": "84ab2733",
   "metadata": {},
   "source": [
    "## combine all in for loop"
   ]
  },
  {
   "cell_type": "code",
   "execution_count": null,
   "id": "97e2477f",
   "metadata": {},
   "outputs": [],
   "source": [
    "kilometer = []\n",
    "status = []\n",
    "trim = []\n",
    "bodytype = []\n",
    "engine = []\n",
    "cylinder = []\n",
    "transmission = []\n",
    "drivetrain = []\n",
    "doors = []\n",
    "fuel = []\n",
    "city = []\n",
    "hwy = []\n",
    "\n",
    "\n",
    "x=0\n",
    "for i in range(1,200):\n",
    "    x = x+15\n",
    "    web2 = 'https://www.autotrader.ca/cars/on/?rcp=' + str(x) + '&rcs=15&srt=35&prx=-2&prv=Ontario&loc=L7A%200J3&hprc=True&wcp=True&sts=New&adtype=Dealer&showcpo=1&inMarket=advancedSearch'\n",
    "    \n",
    "    response = requests.get(web2)\n",
    "    \n",
    "    soup = BeautifulSoup(response.content, 'html.parser')\n",
    "    \n",
    "    results = soup.find_all('div', {'class':'col-xs-12 result-item organic-qa'})\n",
    "    \n",
    "    for result in results:\n",
    "        \n",
    "        try:\n",
    "            href = result.find('a',{'class':'result-title click'}).get_text().strip()\n",
    "        except:\n",
    "            break\n",
    "            \n",
    "        webitemurl = 'https://www.autotrader.ca' + href\n",
    "        response = requests.get(webitemurl)\n",
    "        soup = BeautifulSoup(response.content, 'html.parser')\n",
    "        \n",
    "        try:\n",
    "            name.append(result.find('div',{'class':''}).get_text().strip())\n",
    "        except:\n",
    "            name.append('null')\n",
    "            \n",
    "        \n",
    "            \n",
    "        \n",
    "\n",
    "\n",
    "\n",
    "\n",
    "\n",
    "\n",
    "\n",
    "\n",
    "\n",
    "\n"
   ]
  },
  {
   "cell_type": "markdown",
   "id": "f5651e7c",
   "metadata": {},
   "source": [
    "## Creating Dataframe"
   ]
  },
  {
   "cell_type": "code",
   "execution_count": null,
   "id": "09a3862b",
   "metadata": {},
   "outputs": [],
   "source": [
    "autotrader = pd.DataFrame({'Name':name, 'Price':price})"
   ]
  },
  {
   "cell_type": "code",
   "execution_count": null,
   "id": "4e296eaf",
   "metadata": {},
   "outputs": [],
   "source": [
    "autotrader"
   ]
  }
 ],
 "metadata": {
  "kernelspec": {
   "display_name": "Python 3 (ipykernel)",
   "language": "python",
   "name": "python3"
  },
  "language_info": {
   "codemirror_mode": {
    "name": "ipython",
    "version": 3
   },
   "file_extension": ".py",
   "mimetype": "text/x-python",
   "name": "python",
   "nbconvert_exporter": "python",
   "pygments_lexer": "ipython3",
   "version": "3.9.13"
  }
 },
 "nbformat": 4,
 "nbformat_minor": 5
}
